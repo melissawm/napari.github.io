{
  "cells": [
    {
      "cell_type": "code",
      "execution_count": null,
      "metadata": {
        "collapsed": false
      },
      "outputs": [],
      "source": [
        "%matplotlib inline"
      ]
    },
    {
      "cell_type": "markdown",
      "metadata": {},
      "source": [
        "\n# Interactive move point\n\n3D click and drag interactivity demo\n"
      ]
    },
    {
      "cell_type": "code",
      "execution_count": null,
      "metadata": {
        "collapsed": false
      },
      "outputs": [],
      "source": [
        "from copy import copy\n\nimport numpy as np\n\nimport napari\nfrom napari.utils.geometry import project_points_onto_plane\n\n# Create viewer, point to move and bounding box\nviewer = napari.Viewer(ndisplay=3)\n\nbounding_box_data = [\n    [-1, -1, -1],\n    [-1, -1, 1],\n    [-1, 1, -1],\n    [-1, 1, 1],\n    [1, -1, -1],\n    [1, -1, 1],\n    [1, 1, -1],\n    [1, 1, 1]\n]\nbounding_box_layer = viewer.add_points(\n    bounding_box_data,\n    name='bounding box',\n    face_color='green',\n    size=0.2,\n    edge_width=0\n)\npoint_layer = viewer.add_points(\n    [0, 0, 0],\n    name='point',\n    face_color='magenta',\n    size=0.2,\n    edge_width=0\n)\n\n\n@point_layer.mouse_drag_callbacks.append\ndef drag_along_camera_plane(layer, event):\n    # early exit if shift isn't held\n    if not 'Shift' in event.modifiers:\n        return\n\n    # disable interactivity during this drag event to fix the view direction\n    layer.interactive = False\n\n    # store start position of point\n    original_position = copy(point_layer.data[0])\n\n    yield\n    while event.type == 'mouse_move':\n        # Calculate click position in data coords\n        point_to_project = np.asarray(layer.world_to_data(event.position))[\n            list(event.dims_displayed)\n        ]\n\n        # Calculate view direction in data coordinates\n        # this view direction, together with the click position, form a plane\n        # parallel to the canvas in data coordinates.\n        view_direction_data = np.asarray(layer._world_to_data_ray(\n            list(event.view_direction)\n        ))[event.dims_displayed]\n\n        # Project click position onto plane\n        projected_position = project_point_onto_plane(\n            point=point_to_project,\n            plane_point=original_position,\n            plane_normal=view_direction_data,\n        )\n\n        # Calculate shifts to apply to point\n        shifts = projected_position - original_position\n\n        # Update position\n        updated_position = original_position + shifts\n\n        # Clamp updated position to bounding box\n        clamped = np.where(updated_position > 1, 1, updated_position)\n        clamped = np.where(clamped < -1, -1, clamped)\n\n        # update\n        point_layer.data = clamped\n        yield\n    # reenable interactivity\n    layer.interactive = True\n\n# setup viewer\nviewer.camera.angles = (45, 30, 30)\nviewer.camera.zoom = 100\nviewer.text_overlay.visible = True\nviewer.text_overlay.text = \"\"\"'shift' + click and drag to move the pink point\nnormal click and drag to rotate the scene\n\"\"\"\n\nif __name__ == '__main__':\n    napari.run()"
      ]
    }
  ],
  "metadata": {
    "kernelspec": {
      "display_name": "Python 3",
      "language": "python",
      "name": "python3"
    },
    "language_info": {
      "codemirror_mode": {
        "name": "ipython",
        "version": 3
      },
      "file_extension": ".py",
      "mimetype": "text/x-python",
      "name": "python",
      "nbconvert_exporter": "python",
      "pygments_lexer": "ipython3",
      "version": "3.9.13"
    }
  },
  "nbformat": 4,
  "nbformat_minor": 0
}