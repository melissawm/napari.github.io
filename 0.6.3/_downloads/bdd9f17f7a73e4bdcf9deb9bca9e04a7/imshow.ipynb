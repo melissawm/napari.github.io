{
  "cells": [
    {
      "cell_type": "markdown",
      "metadata": {},
      "source": [
        "\n# Launch napari and display an image\n\nLaunch an instance of napari and simultaneously display an image using the\n:func:`imshow` API. This example can be run to recreate the README image.\n\n.. tags:: visualization-basic\n"
      ]
    },
    {
      "cell_type": "code",
      "execution_count": null,
      "metadata": {
        "collapsed": false
      },
      "outputs": [],
      "source": [
        "from skimage import data\n\nimport napari\n\nviewer, layers = napari.imshow(data.cells3d(), channel_axis=1, ndisplay=3)\n\n# To recreate the README image uncomment the following lines:\n# viewer.window._qt_window.resize(800, 600)\n# napari._qt.qt_event_loop.get_qapp().processEvents()  # Ensure the window is done rendering before taking a screenshot\n# viewer.screenshot('./src/napari/resources/multichannel_cells.png', canvas_only=False)\n\nif __name__ == '__main__':\n    napari.run()"
      ]
    }
  ],
  "metadata": {
    "kernelspec": {
      "display_name": "Python 3",
      "language": "python",
      "name": "python3"
    },
    "language_info": {
      "codemirror_mode": {
        "name": "ipython",
        "version": 3
      },
      "file_extension": ".py",
      "mimetype": "text/x-python",
      "name": "python",
      "nbconvert_exporter": "python",
      "pygments_lexer": "ipython3",
      "version": "3.10.18"
    }
  },
  "nbformat": 4,
  "nbformat_minor": 0
}