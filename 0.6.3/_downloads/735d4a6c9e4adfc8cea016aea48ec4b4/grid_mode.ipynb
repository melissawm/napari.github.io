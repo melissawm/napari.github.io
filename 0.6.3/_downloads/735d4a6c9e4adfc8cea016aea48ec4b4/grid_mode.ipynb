{
  "cells": [
    {
      "cell_type": "markdown",
      "metadata": {},
      "source": [
        "\n# Grid mode\n\nDisplay layers in a grid using the `viewer.grid` API. When grid is enabled,\nlayers are automatically arranged - based on the stride, height, and width parameters -\nin a grid of viewboxes linked to the main Camera and Dims. Viewer overlays such as\nscale_bar can also be shown in a gridded manner.\n\n.. tags:: visualization-basic\n"
      ]
    },
    {
      "cell_type": "code",
      "execution_count": null,
      "metadata": {
        "collapsed": false
      },
      "outputs": [],
      "source": [
        "from skimage import data\n\nimport napari\n\nviewer = napari.Viewer()\nlayers = viewer.add_image(data.lily(), channel_axis=2)\n\nviewer.grid.enabled = True\n# a stride of 2 means that two consecutive layers are placed in each\n# viewbox instead of just one\nviewer.grid.stride = 2\n# we leave width and height as -1, automatically resulting in a square grid\n\n# setting the spacing to a value between 0 and 1 adds a padding between\n# viewboxes relative to their sizes. Setting to a value greater than 1\n# results in a padding of that exact number of pixels instead.\nviewer.grid.spacing = 0.1\n\nviewer.scale_bar.visible = True\nviewer.scale_bar.box = True\n# show scalebar in each grid instead of just once\nviewer.scale_bar.gridded = True\n\nif __name__ == '__main__':\n    napari.run()"
      ]
    }
  ],
  "metadata": {
    "kernelspec": {
      "display_name": "Python 3",
      "language": "python",
      "name": "python3"
    },
    "language_info": {
      "codemirror_mode": {
        "name": "ipython",
        "version": 3
      },
      "file_extension": ".py",
      "mimetype": "text/x-python",
      "name": "python",
      "nbconvert_exporter": "python",
      "pygments_lexer": "ipython3",
      "version": "3.10.18"
    }
  },
  "nbformat": 4,
  "nbformat_minor": 0
}