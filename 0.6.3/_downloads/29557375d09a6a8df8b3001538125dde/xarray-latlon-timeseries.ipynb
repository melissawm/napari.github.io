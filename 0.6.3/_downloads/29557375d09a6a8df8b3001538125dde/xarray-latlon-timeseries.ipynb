{
  "cells": [
    {
      "cell_type": "markdown",
      "metadata": {},
      "source": [
        "\n# Displaying xarray data in napari\n\nThis example shows how to view xarray datasets in napari, including scale\nand translation information.\n\nCurrently, napari cannot display irregularly-sampled data, so the code\nassumes that the data indices are regularly spaced. If your indices are\nirregular, use `xarray.Dataset.interp` to create a regularly-spaced version\nbefore displaying it in napari.\n\n.. tags:: visualization-advanced, layers, xarray\n"
      ]
    },
    {
      "cell_type": "code",
      "execution_count": null,
      "metadata": {
        "collapsed": false
      },
      "outputs": [],
      "source": [
        "import numpy as np\nimport xarray as xr\n\nimport napari\n\n# open the xarray global sea surface temperature (40MB) and North America\n# air temperature (30MB) datasets\nsst = xr.tutorial.open_dataset('ersstv5')\nairtemp = xr.tutorial.open_dataset('air_temperature')\n\n\ndef get_scale_translate(dataset, array_name):\n    \"\"\"Get the translate/offset and scale parameters for an xarray dataset.\n\n    This code assumes that the dataset is regularly spaced. You should\n    interpolate your data if it is sampled at irregular spaces.\n\n    Parameters\n    ----------\n    dataset : xr.Dataset\n        The dataset containing the array to be displayed.\n    array_name : str\n        The name of the xarray DataArray within `dataset` to be displayed in\n        napari.\n\n    Returns\n    -------\n    param_dict : dict[str, list[float]]\n        The scale and translate parameters computed from the xarray dimension\n        indices.\n    \"\"\"\n    array = getattr(dataset, array_name)\n    if array is None:\n        raise ValueError(f'{dataset} has no array with name {array_name}')\n    dims = [getattr(dataset, dim) for dim in array.dims]\n    translate = [float(d[0]) for d in dims]\n    scale = [float(d[1] - d[0]) for d in dims]\n    return {'scale': scale, 'translate': translate}\n\n\n# Show the raw (not resampled) model data\nviewer, sst_layer = napari.imshow(\n        sst.sst,\n        name='sea surface temp',\n        **get_scale_translate(sst, 'sst'),\n        colormap='magma',\n        )\nviewer.dims.axis_labels = sst.sst.dims\n\nair_layer = viewer.add_image(\n        airtemp.air,\n        name='air temp NA',\n        **get_scale_translate(airtemp, 'air'),\n        colormap='viridis',\n        blending='additive',\n        contrast_limits=(-23 + 273, 32 + 273),  # data are in degrees Kelvin\n        )\n\n# set a time that overlaps both datasets\nviewer.dims.set_point(0, np.datetime64('2013-03-10T18:00:00.000000000'))\n\n# latitude goes from -90 (south, down) to 90 (north, up),\n# so we make sure that the camera vertical axis points up.\nviewer.camera.orientation2d = ('up', 'right')\n\n# fill the frame\nviewer.reset_view(margin=0)\n\n\nif __name__ == '__main__':\n    napari.run()"
      ]
    }
  ],
  "metadata": {
    "kernelspec": {
      "display_name": "Python 3",
      "language": "python",
      "name": "python3"
    },
    "language_info": {
      "codemirror_mode": {
        "name": "ipython",
        "version": 3
      },
      "file_extension": ".py",
      "mimetype": "text/x-python",
      "name": "python",
      "nbconvert_exporter": "python",
      "pygments_lexer": "ipython3",
      "version": "3.10.18"
    }
  },
  "nbformat": 4,
  "nbformat_minor": 0
}