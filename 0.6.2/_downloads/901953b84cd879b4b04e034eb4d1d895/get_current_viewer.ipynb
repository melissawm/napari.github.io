{
  "cells": [
    {
      "cell_type": "markdown",
      "metadata": {},
      "source": [
        "\n# Get current viewer\n\nGet a reference to the current napari viewer.\n\nWhilst this example is contrived, it can be useful to get a reference to the\nviewer when the viewer is out of scope.\n\n.. tags:: gui\n"
      ]
    },
    {
      "cell_type": "code",
      "execution_count": null,
      "metadata": {
        "collapsed": false
      },
      "outputs": [],
      "source": [
        "import numpy as np\n\nimport napari\n\n# create viewer\nviewer = napari.Viewer()\n\n# lose reference to viewer\nviewer = 'oops no viewer here'\n\n# get that reference again\nviewer = napari.current_viewer()\n\n# work with the viewer\nx = np.arange(256)\ny = np.arange(256).reshape((256, 1))\n# from: https://botsin.space/@bitartbot/113553754823363986\nimage = (-(~((y - x) ^ (y + x)))) % 11\nlayer = viewer.add_image(image)\nlayer.contrast_limits = (8.5, 10)\n\nif __name__ == '__main__':\n    napari.run()"
      ]
    }
  ],
  "metadata": {
    "kernelspec": {
      "display_name": "Python 3",
      "language": "python",
      "name": "python3"
    },
    "language_info": {
      "codemirror_mode": {
        "name": "ipython",
        "version": 3
      },
      "file_extension": ".py",
      "mimetype": "text/x-python",
      "name": "python",
      "nbconvert_exporter": "python",
      "pygments_lexer": "ipython3",
      "version": "3.10.17"
    }
  },
  "nbformat": 4,
  "nbformat_minor": 0
}