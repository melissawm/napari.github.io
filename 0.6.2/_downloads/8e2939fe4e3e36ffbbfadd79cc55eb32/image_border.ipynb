{
  "cells": [
    {
      "cell_type": "markdown",
      "metadata": {},
      "source": [
        "\n# Layer Bounding Box (Border) Overlay\n\nDisplay an image in napari and add a bounding box overlay (a border) at the edges of the layer.\n\nThe bounding box overlay is a visual representation of the extents of a layer.\nThis example demonstrates visualization of many bounding box overlay properties,\nincluding line color, line thickness, point size, opacity.\nIn addition, this viewer shows how layer overlays interact when draw on top of each other (at the intersection of the grid).\nUse `viewer.layers[0].bounding_box` to view all modifiable attributes of the overlay.\n\nFor an example showing how bounding box extents are visualized, see\n`sphx_glr_gallery_layer_bounding_box.py`.\n\n.. tags:: visualization-advanced\n"
      ]
    },
    {
      "cell_type": "code",
      "execution_count": null,
      "metadata": {
        "collapsed": false
      },
      "outputs": [],
      "source": [
        "from skimage import data\n\nimport napari\n\n# Create a napari viewer with a 3D, 2 channel image, with the `view_image` convenience function.\nviewer = napari.view_image(\n    data.cells3d(), channel_axis=1, name=['membrane', 'nuclei']\n)\nviewer.grid.enabled = True\n\n# Add a border overlay to each layer, and modify properties of the border overlay.\nviewer.layers[0].bounding_box.visible = True\nviewer.layers[0].bounding_box.line_color = 'cyan' # default: 'red'\nviewer.layers[0].bounding_box.line_thickness = 5 # default: 1, maximum is GPU-dependent, see: https://vispy.org/api/vispy.scene.visuals.html#vispy.scene.visuals.Line\nviewer.layers[0].bounding_box.point_size = 10 # default: 5\nviewer.layers[0].bounding_box.point_color = 'yellow' # default: 'blue'\n\nviewer.layers[1].bounding_box.visible = True\nviewer.layers[1].bounding_box.line_color = 'orange'\nviewer.layers[1].bounding_box.line_thickness = 2\nviewer.layers[1].bounding_box.opacity = 0.8 # default: 1\n# viewer_2d.layers[1].bounding_box.blending = 'additive' # default: 'translucent'\n\nif __name__ == '__main__':\n    napari.run()"
      ]
    }
  ],
  "metadata": {
    "kernelspec": {
      "display_name": "Python 3",
      "language": "python",
      "name": "python3"
    },
    "language_info": {
      "codemirror_mode": {
        "name": "ipython",
        "version": 3
      },
      "file_extension": ".py",
      "mimetype": "text/x-python",
      "name": "python",
      "nbconvert_exporter": "python",
      "pygments_lexer": "ipython3",
      "version": "3.10.17"
    }
  },
  "nbformat": 4,
  "nbformat_minor": 0
}