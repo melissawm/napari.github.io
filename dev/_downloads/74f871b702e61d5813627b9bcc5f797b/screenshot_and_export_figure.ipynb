{
  "cells": [
    {
      "cell_type": "markdown",
      "metadata": {},
      "source": [
        "\n# Comparison of Screenshot and Figure Export\n\nDisplay multiple layer types, add scale bar, and take a screenshot or export a\nfigure from a 'light' canvas. Then switch to a 'dark' canvas and display the\nscreenshot and figure. Compare the limits of each export method. The screenshot\nwill include the entire canvas, and results in some layers being clipped\nif it extends outside the canvas. This also means that screenshots will\nreflect the current zoom. In comparison, the `export_figure` will always\ninclude the extent of the layers and any other elements overlayed\non the canvas, such as the scale bar. Exported figures also move the scale bar\nto within the margins of the canvas.\n\nIn the final grid state shown below, the first row represents exported images. The first two show that zoom is not reflected in the exported figure. The final one shows how the exported figure adapts to change in the layer extent. In the second row are the screenshots, showing the fact that the entire canvas is captured and that zoom is preserved.\n\n.. tags:: visualization-advanced\n"
      ]
    },
    {
      "cell_type": "code",
      "execution_count": null,
      "metadata": {
        "collapsed": false
      },
      "outputs": [],
      "source": [
        "import numpy as np\nfrom skimage import data\n\nimport napari\n\n# Create a napari viewer with multiple layer types and add a scale bar.\n# One of the polygon shapes exists outside the image extent, which is\n# useful in displaying how figure export handles the extent of all layers.\n\nviewer = napari.Viewer()\n\n# add a 2D image layer\nimg_layer = viewer.add_image(data.camera(), name='photographer')\nimg_layer.colormap = 'gray'\n\n# polygon within image extent\nlayer_within = viewer.add_shapes(\n    np.array([[11, 13], [111, 113], [22, 246]]),\n    shape_type='polygon',\n    face_color='coral',\n    name='shapes_within',\n)\n\n# add a polygon shape layer\nlayer_outside = viewer.add_shapes(\n    np.array([[572, 222], [305, 292], [577, 440]]),\n    shape_type='polygon',\n    face_color='royalblue',\n    name='shapes_outside',\n)\n\n# add scale_bar with background box\nviewer.scale_bar.visible = True\nviewer.scale_bar.box = True\n# viewer.scale_bar.length = 150  # prevent dynamic adjustment of scale bar length\n\n\n# Take screenshots and export figures in 'light' theme, to show the canvas\n# margins and the extent of the exported figure.\nviewer.theme = 'light'\nscreenshot = viewer.screenshot()\nfigure = viewer.export_figure()\n# optionally, save the exported figure: viewer.export_figure(path='export_figure.png')\n# or screenshot: viewer.screenshot(path='screenshot.png')\n\n\n# Zoom in and take another screenshot and export figure to show the different\n# extents of the exported figure and screenshot.\nviewer.camera.zoom = 3\nscreenshot_zoomed = viewer.screenshot()\nfigure_zoomed = viewer.export_figure()\n\n\n# Remove the layer that exists outside the image extent and take another\n# figure export to show the extent of the exported figure without the\n# layer that exists outside the camera image extent.\nviewer.layers.remove(layer_outside)\nfigure_no_outside_shape = viewer.export_figure()\n\n\n# Display the screenshots and figures in 'dark' theme, and switch to grid mode\n# for comparison. In the final grid state shown, the first row represents exported\n# images. The first two show that zoom is not reflected in the exported figure.\n# The final one shows how the exported figure adapts to change in the layer extent.\n# In the second row are the screenshots, showing the fact that the entire canvas\n# is captured and that zoom is preserved.\nviewer.theme = 'dark'\nviewer.layers.select_all()\nviewer.layers.remove_selected()\n\nviewer.add_image(screenshot_zoomed, rgb=True, name='screenshot_zoomed')\nviewer.add_image(screenshot, rgb=True, name='screenshot')\nviewer.add_image(figure_no_outside_shape, rgb=True, name='figure_no_outside_shape')\nviewer.add_image(figure_zoomed, rgb=True, name='figure_zoomed')\nviewer.add_image(figure, rgb=True, name='figure')\n\nviewer.grid.enabled = True\nviewer.grid.shape = (2, 3)\n\nif __name__ == '__main__':\n    napari.run()"
      ]
    }
  ],
  "metadata": {
    "kernelspec": {
      "display_name": "Python 3",
      "language": "python",
      "name": "python3"
    },
    "language_info": {
      "codemirror_mode": {
        "name": "ipython",
        "version": 3
      },
      "file_extension": ".py",
      "mimetype": "text/x-python",
      "name": "python",
      "nbconvert_exporter": "python",
      "pygments_lexer": "ipython3",
      "version": "3.10.18"
    }
  },
  "nbformat": 4,
  "nbformat_minor": 0
}