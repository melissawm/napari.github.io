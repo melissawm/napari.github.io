{
  "cells": [
    {
      "cell_type": "markdown",
      "metadata": {},
      "source": [
        "\n# Layer Text Scaling\n\nDisplay points layer with text features.\nBy using the `scaling` property of the text layer, the text is scaled with the layers as canvas zoom changes.\nScaling can also be thought of as fixing the height of the text in world coordinates,\nwhereas no scaling fixes the height of the text in screen / canvas pixels.\nThis world scaling is useful when there are many points and the text would otherwise overlap when zoomed out, or become illegible when zoomed in.\n\n.. tags:: visualization-advanced\n"
      ]
    },
    {
      "cell_type": "code",
      "execution_count": null,
      "metadata": {
        "collapsed": false
      },
      "outputs": [],
      "source": [
        "import numpy as np\n\nimport napari\n\nviewer = napari.Viewer()\nviewer.open_sample('napari', 'astronaut')\n\n# add points with text features\npoints = np.array([[100, 100], [120, 120], [140, 140], [160, 160]])\ntext_scaled = {\n    'string': ['Point 1', 'Point 2', 'Point 3', 'Point 4'],\n    'size': 8,\n    'color': 'magenta',\n    'anchor': 'center',\n    'scaling': True\n}\npoints_layer = viewer.add_points(\n    points,\n    size=20,\n    text=text_scaled,\n    name='scaled_text (magenta)'\n)\n# points_layer.text.scaling = True  # alternative way to set scaling\n\n# add a second points layer slightly offset and show without scaling\ntext_unscaled = {\n    'string': ['Point 1', 'Point 2', 'Point 3', 'Point 4'],\n    'size': 8,\n    'color': 'green',\n    'anchor': 'center',\n}\npoints_layer2 = viewer.add_points(\n    points + [40, 0],\n    size=20,\n    text=text_unscaled,\n    name='unscaled_text (green)'\n)\n\nshape_text = {\n    'string': ['Triangle'],\n    'size': 12,\n    'scaling': True,\n}\nshapes_layer = viewer.add_shapes(\n    data=[[100, 300], [200, 300], [100, 400]],\n    shape_type=['polygon'],\n    text=shape_text,\n    name='scaled_text_shapes'\n)\n\nfor layer in viewer.layers:\n    layer.scale = (3, 3)\n\nviewer.reset_view()\n\nif __name__ == '__main__':\n    napari.run()"
      ]
    }
  ],
  "metadata": {
    "kernelspec": {
      "display_name": "Python 3",
      "language": "python",
      "name": "python3"
    },
    "language_info": {
      "codemirror_mode": {
        "name": "ipython",
        "version": 3
      },
      "file_extension": ".py",
      "mimetype": "text/x-python",
      "name": "python",
      "nbconvert_exporter": "python",
      "pygments_lexer": "ipython3",
      "version": "3.10.18"
    }
  },
  "nbformat": 4,
  "nbformat_minor": 0
}