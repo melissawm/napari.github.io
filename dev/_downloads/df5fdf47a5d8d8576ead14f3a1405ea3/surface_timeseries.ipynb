{
  "cells": [
    {
      "cell_type": "markdown",
      "metadata": {},
      "source": [
        "\n# Surface timeseries\n\nDisplay a surface timeseries using data from nilearn\n\n.. tags:: experimental\n"
      ]
    },
    {
      "cell_type": "code",
      "execution_count": null,
      "metadata": {
        "collapsed": false
      },
      "outputs": [],
      "source": [
        "from importlib.metadata import version\n\nfrom nilearn import datasets, surface\nfrom packaging.version import parse\n\nimport napari\n\nif parse(version(\"numpy\")) >= parse('1.24') and parse(version(\"nilearn\")) < parse('0.10.1'):\n    raise RuntimeError(\n        'Incompatible numpy version. '\n        'You must have numpy less than 1.24 for nilearn 0.10.1 and below to '\n        'work and download the example data'\n    )\n\n\n# Fetch datasets - this will download dataset if datasets are not found\nnki_dataset = datasets.fetch_surf_nki_enhanced(n_subjects=1)\nfsaverage = datasets.fetch_surf_fsaverage()\n\n# Load surface data and resting state time series from nilearn\nbrain_vertices, brain_faces = surface.load_surf_data(fsaverage['pial_left'])\nbrain_vertex_depth = surface.load_surf_data(fsaverage['sulc_left'])\ntimeseries = surface.load_surf_data(nki_dataset['func_left'][0])\n# nilearn provides data as n_vertices x n_timepoints, but napari requires the\n# vertices axis to be placed last to match NumPy broadcasting rules\ntimeseries = timeseries.transpose((1, 0))\n\n# create an empty viewer\nviewer = napari.Viewer(ndisplay=3)\n\n# add the mri\nviewer.add_surface((brain_vertices, brain_faces, brain_vertex_depth), name='base')\nviewer.add_surface((brain_vertices, brain_faces, timeseries),\n                    colormap='turbo', opacity=0.9,\n                    contrast_limits=[-1.5, 3.5], name='timeseries')\n\nif __name__ == '__main__':\n    napari.run()"
      ]
    }
  ],
  "metadata": {
    "kernelspec": {
      "display_name": "Python 3",
      "language": "python",
      "name": "python3"
    },
    "language_info": {
      "codemirror_mode": {
        "name": "ipython",
        "version": 3
      },
      "file_extension": ".py",
      "mimetype": "text/x-python",
      "name": "python",
      "nbconvert_exporter": "python",
      "pygments_lexer": "ipython3",
      "version": "3.10.17"
    }
  },
  "nbformat": 4,
  "nbformat_minor": 0
}