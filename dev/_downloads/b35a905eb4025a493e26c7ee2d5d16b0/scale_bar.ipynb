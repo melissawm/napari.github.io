{
  "cells": [
    {
      "cell_type": "markdown",
      "metadata": {},
      "source": [
        "\n# Scale bar\n\nDisplay a 3D volume and the scale bar\n\n.. tags:: experimental\n"
      ]
    },
    {
      "cell_type": "code",
      "execution_count": null,
      "metadata": {
        "collapsed": false
      },
      "outputs": [],
      "source": [
        "from skimage import data\n\nimport napari\n\ncells = data.cells3d()\n\nviewer = napari.Viewer(ndisplay=3)\n\nviewer.add_image(\n    cells,\n    name=('membrane', 'nuclei'),\n    channel_axis=1,\n    scale=(0.29, 0.26, 0.26),\n)\nviewer.scale_bar.visible = True\n\n# Text options\nviewer.scale_bar.unit = 'um'  # set to None to diplay no unit\nviewer.scale_bar.length = 23  # length, in units, of the scale bar\nviewer.scale_bar.font_size = 20  # default is 10\n\n# Text color\nviewer.scale_bar.colored = True  # default value is False\nviewer.scale_bar.color = 'yellow'  # default value is magenta: (1,0,1,1)\n\n# Background box\nviewer.scale_bar.box = True  # add background box, default is False\nviewer.scale_bar.box_color = (0, 1, 1, 0.2)  # cyan with alpha=0.2\n\n# Scale bar position\nviewer.scale_bar.position = 'bottom_left'  # default is 'bottom_right'\n\nif __name__ == '__main__':\n    napari.run()"
      ]
    }
  ],
  "metadata": {
    "kernelspec": {
      "display_name": "Python 3",
      "language": "python",
      "name": "python3"
    },
    "language_info": {
      "codemirror_mode": {
        "name": "ipython",
        "version": 3
      },
      "file_extension": ".py",
      "mimetype": "text/x-python",
      "name": "python",
      "nbconvert_exporter": "python",
      "pygments_lexer": "ipython3",
      "version": "3.10.17"
    }
  },
  "nbformat": 4,
  "nbformat_minor": 0
}