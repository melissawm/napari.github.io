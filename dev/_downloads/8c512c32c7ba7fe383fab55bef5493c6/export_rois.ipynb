{
  "cells": [
    {
      "cell_type": "markdown",
      "metadata": {},
      "source": [
        "\n# Export regions of interest (ROIs) to png\n\nDisplay multiple layer types one of them representing ROIs, add scale bar,\nand export unscaled and scaled rois. The scale bar will always be within\nthe screenshot of the ROI.\n\nCurrently, `export_rois` does not support the 3D view or any other shape than 2D rectangles.\n\nIn the final grid state shown below, from left to right, top to bottom, the first 4 images display the\nscaled roi screenshots with scale bar and the last 4 display the unscaled roi screenshots with scale bar.\n\n.. tags:: visualization-advanced\n"
      ]
    },
    {
      "cell_type": "code",
      "execution_count": null,
      "metadata": {
        "collapsed": false
      },
      "outputs": [],
      "source": [
        "import numpy as np\nfrom skimage import data\n\nimport napari\n\n# Create a napari viewer with multiple layer types and add a scale bar.\n# One of the polygon shapes exists outside the image extent, which is\n# useful in displaying how figure export handles the extent of all layers.\n\nviewer = napari.Viewer()\n\n# add a 2D image layer\nimg_layer = viewer.add_image(data.lily(), name='lily', channel_axis=2)\n\n# Rectangular shapes encapsulating rois for the lily data\nrois = [np.array([[149.38401138,  61.80004348],\n        [149.38401138, 281.95358131],\n        [364.2538643 , 281.95358131],\n        [364.2538643 ,  61.80004348]]),\n np.array([[316.70070013, 346.23841435],\n        [316.70070013, 660.61766637],\n        [673.34943141, 660.61766637],\n        [673.34943141, 346.23841435]]),\n np.array([[579.12371722,  16.88872176],\n        [579.12371722, 176.27988315],\n        [768.45575975, 176.27988315],\n        [768.45575975,  16.88872176]]),\n np.array([[ 43.42954911, 445.29831816],\n        [ 43.42954911, 871.04161258],\n        [285.58890617, 871.04161258],\n        [285.58890617, 445.29831816]])]\n\n# Add lily rois to the viewer for visualization purposes, not required for exporting roi screenshots.\nroi_layer = viewer.add_shapes(\n    rois, # in case of a shapes layer containing rectangular rois, pass on layer.data directly.\n    edge_width=10,\n    edge_color='green', # Optionally, set to [(0, 0, 0, 0)] * 4 to prevent edge color from showing in screenshots.\n    face_color=[(0, 0, 0, 0)] * 4, # We do not want the face color to show up in the screenshots\n    shape_type='rectangle',\n    name='rois',\n)\n\n# add scale_bar with background box\nviewer.scale_bar.visible = True\nviewer.scale_bar.box = True\n# viewer.scale_bar.length = 150  # prevent dynamic adjustment of scale bar length\n\n# Take screenshots of the rois.\nscreenshot_rois = viewer.export_rois(rois)\n# Optionally, save the exported rois in a directory of choice with name `roi_n.png` where n is the index of the roi:\n# viewer.export_rois(rois, paths='home/data/exported_rois')\n# Optionally, save the exported rois while specifying the location for each roi to be stored:\n# viewer.export_rois(rois, paths=['first_roi.png', 'second_roi.png', 'third_roi.png', 'fourth_roi.png'])\n\n# Also take scaled roi screenshots.\nscreenshot_rois_scaled = viewer.export_rois(rois, scale=2\n                                     )\nviewer.layers.select_all()\nviewer.layers.toggle_selected_visibility()\nfor index, roi in enumerate(screenshot_rois):\n    viewer.add_image(roi, name=f'roi_{index}_unscaled')\n\nfor index, roi in enumerate(screenshot_rois_scaled):\n    viewer.add_image(roi, name=f'roi_{index}_scaled')\n\nviewer.grid.enabled = True\nviewer.grid.shape = (3, 3)\n\n\nif __name__ == '__main__':\n    napari.run()"
      ]
    }
  ],
  "metadata": {
    "kernelspec": {
      "display_name": "Python 3",
      "language": "python",
      "name": "python3"
    },
    "language_info": {
      "codemirror_mode": {
        "name": "ipython",
        "version": 3
      },
      "file_extension": ".py",
      "mimetype": "text/x-python",
      "name": "python",
      "nbconvert_exporter": "python",
      "pygments_lexer": "ipython3",
      "version": "3.10.17"
    }
  },
  "nbformat": 4,
  "nbformat_minor": 0
}