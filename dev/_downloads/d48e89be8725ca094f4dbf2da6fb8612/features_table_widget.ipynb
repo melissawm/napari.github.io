{
  "cells": [
    {
      "cell_type": "markdown",
      "metadata": {},
      "source": [
        "\n# Features table widget\n\nVisualize and interact with the `features` of a layer via the builtin\nFeatures table widget.\nThe widget can be used to navigate, edit, select, copy/paste, and save the features\nof a compatible layer (such as Points, Labels or Shapes).\nSelection is synchronized between the table widget and the data. When selecting rows in\nthe table widget, the corresponding data will be selected on the layer. When selecting\ndata on the layer, the corresponding row in the table widget will be selected.\non the layer and viceversa.\n\n.. tags:: gui, features-table\n"
      ]
    },
    {
      "cell_type": "code",
      "execution_count": null,
      "metadata": {
        "collapsed": false
      },
      "outputs": [],
      "source": [
        "import numpy as np\nimport pandas as pd\n\nimport napari\n\nviewer = napari.Viewer(ndisplay=3)\n\nfeatures = pd.DataFrame({\n    'a': np.random.rand(10),\n    'b': ['stuff'] * 10,\n    'c': np.random.choice([0, 1], 10).astype(bool),\n    'd': pd.Series(np.random.choice(['x', 'y', 'z'], 10), dtype='category')\n})\nfeatures.loc[3, 'a'] = np.nan\nfeatures.loc[2, 'b'] = 'asd'\nviewer.add_image(np.random.rand(10, 10))\n\npoints = viewer.add_points(np.random.rand(10, 3) * 10, size=1, features=features)\n\nviewer.window.add_plugin_dock_widget('napari', 'Features table widget')\n\nif __name__ == '__main__':\n    napari.run()"
      ]
    }
  ],
  "metadata": {
    "kernelspec": {
      "display_name": "Python 3",
      "language": "python",
      "name": "python3"
    },
    "language_info": {
      "codemirror_mode": {
        "name": "ipython",
        "version": 3
      },
      "file_extension": ".py",
      "mimetype": "text/x-python",
      "name": "python",
      "nbconvert_exporter": "python",
      "pygments_lexer": "ipython3",
      "version": "3.10.17"
    }
  },
  "nbformat": 4,
  "nbformat_minor": 0
}