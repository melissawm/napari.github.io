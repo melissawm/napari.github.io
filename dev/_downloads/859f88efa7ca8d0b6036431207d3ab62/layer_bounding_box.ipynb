{
  "cells": [
    {
      "cell_type": "markdown",
      "metadata": {},
      "source": [
        "\n# 3D Layer Bounding Box Overlay\n\nDisplay multiple layer types in 3D and add a bounding box overlay to each layer.\n\nThe bounding box overlay is a visual representation of the extents of each layer.\nImage and label layers have data extents that are the same as the image data.\nShapes and points layers have data extents that represent the convex hull of the data.\n\nFor an example showing how to modify the properties of the bounding box overlay,\nsee `sphx_glr_gallery_image_border.py`.\n\n.. tags:: visualization-advanced, visualization-nD\n"
      ]
    },
    {
      "cell_type": "code",
      "execution_count": null,
      "metadata": {
        "collapsed": false
      },
      "outputs": [],
      "source": [
        "import numpy as np\nfrom skimage import data, feature, filters, morphology\n\nimport napari\n\n# get sample 3D image data, threshold, and find maxima\ncells3d = data.cells3d()\nnuclei = cells3d[:, 1]\n\nnuclei_smoothed = filters.gaussian(nuclei, sigma=5)\nnuclei_thresholded = nuclei_smoothed > filters.threshold_otsu(nuclei_smoothed)\nnuclei_labels = morphology.label(nuclei_thresholded)\nnuclei_points = feature.peak_local_max(nuclei_smoothed, min_distance=20)\n\n# create an arbitrary path for display\npath = np.array([\n    [0, 10, 10],\n    [20, 5, 15],\n    [56, 70, 21],\n    [127, 127, 127]\n])\n\n# create the viewer and display the different layer types\nviewer = napari.Viewer()\nviewer.add_image(nuclei, name='nuclei', contrast_limits = (10000, 65355))\nviewer.add_labels(nuclei_labels, name='nuclei labels')\nviewer.add_points(\n    nuclei_points, name='nuclei maxima', blending='additive', opacity=0.5\n)\nviewer.add_shapes(\n    path, name='path', shape_type='path', blending='additive', edge_color='yellow'\n)\n\n# add a bounding box overlay to each layer, then change the color\nfor layer in viewer.layers:\n    layer.bounding_box.visible = True\n\nviewer.layers['nuclei labels'].bounding_box.line_color = 'cyan'\nviewer.layers['nuclei maxima'].bounding_box.line_color = 'orange'\nviewer.layers['path'].bounding_box.line_color = 'magenta'\n\n# set the view to 3D and rotate camera\nviewer.dims.ndisplay = 3\nviewer.camera.angles = (2, 15, 150)\n\nif __name__ == '__main__':\n    napari.run()"
      ]
    }
  ],
  "metadata": {
    "kernelspec": {
      "display_name": "Python 3",
      "language": "python",
      "name": "python3"
    },
    "language_info": {
      "codemirror_mode": {
        "name": "ipython",
        "version": 3
      },
      "file_extension": ".py",
      "mimetype": "text/x-python",
      "name": "python",
      "nbconvert_exporter": "python",
      "pygments_lexer": "ipython3",
      "version": "3.10.17"
    }
  },
  "nbformat": 4,
  "nbformat_minor": 0
}