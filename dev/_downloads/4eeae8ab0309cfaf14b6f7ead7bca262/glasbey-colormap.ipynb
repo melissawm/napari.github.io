{
  "cells": [
    {
      "cell_type": "markdown",
      "metadata": {},
      "source": [
        "\n# Glasbey colormap\n\nA long-requested feature [1]_ for napari was to display labels/segmentation\nlayers using a well-known discrete colormap such as Glasbey [2]_.\n\nIn this example, we demonstrate displaying segmentations using custom colormaps\nwith the help of the glasbey Python library [3]_, which you can install with\nyour favorite Python package manager, such as pip or conda. We display a\nsegmentation using the napari built-in labels colormap, the original Glasbey\ncolormap, a more modern version produced by limiting the lightness and chroma\nand optimizing for colorblind-safety, and finally with the matplotlib tab10\ncolormap.\n\n.. [1] https://github.com/napari/napari/issues/454\n.. [2] Colour displays for categorical images. Chris Glasbey, Gerie van der\n       Heijden, Vivian F. K. Toh, and Alision Gray. (2007)\n       DOI:10.1002/col.20327\n.. [3] https://github.com/lmcinnes/glasbey\n\n.. tags:: layers, visualization-basic\n"
      ]
    },
    {
      "cell_type": "code",
      "execution_count": null,
      "metadata": {
        "collapsed": false
      },
      "outputs": [],
      "source": [
        "import glasbey\nimport numpy as np\nfrom skimage import data\nfrom skimage.filters import threshold_otsu\nfrom skimage.measure import label\nfrom skimage.morphology import closing, remove_small_objects\nfrom skimage.segmentation import clear_border\n\nimport napari\n\nimage = data.coins()[50:-50, 50:-50]"
      ]
    },
    {
      "cell_type": "markdown",
      "metadata": {},
      "source": [
        "First, we segment the image.\n\n"
      ]
    },
    {
      "cell_type": "code",
      "execution_count": null,
      "metadata": {
        "collapsed": false
      },
      "outputs": [],
      "source": [
        "# apply threshold\nthresh = threshold_otsu(image)\nbw = closing(image > thresh, footprint=np.ones((4, 4), dtype=bool))\n\n# remove artifacts connected to image border\ncleared = remove_small_objects(clear_border(bw), 20)\n\n# label image regions\nlabel_image = label(cleared).astype(\"uint8\")"
      ]
    },
    {
      "cell_type": "markdown",
      "metadata": {},
      "source": [
        "Then, we create two color palettes using the glasbey library. One with the\noriginal glasbey parameters and 256 colors, and a more modern one with better\nlightness and chroma bounds for a less glary look.\n\n"
      ]
    },
    {
      "cell_type": "code",
      "execution_count": null,
      "metadata": {
        "collapsed": false
      },
      "outputs": [],
      "source": [
        "# original glasbey\nglas = glasbey.create_palette(256)\n\n# more optimized glasbey\nglas19mid = glasbey.create_palette(\n        19,\n        lightness_bounds=(20, 60), chroma_bounds=(40, 50),\n        colorblind_safe=True,\n        )"
      ]
    },
    {
      "cell_type": "markdown",
      "metadata": {},
      "source": [
        "Finally, we display the coins image and the overlaid segmentation. We do this\nin two viewers to show both colormaps.\n\n"
      ]
    },
    {
      "cell_type": "code",
      "execution_count": null,
      "metadata": {
        "collapsed": false
      },
      "outputs": [],
      "source": [
        "viewer, image_layer = napari.imshow(image, name='coins')\n\n# add the labels\nlabel_layer_glas = viewer.add_labels(\n        label_image, name='segmentation', colormap=glas\n        )\n\nviewer2, image_layer2 = napari.imshow(image, name='coins')\n\nlabel_layer_modern = viewer2.add_labels(\n        label_image, name='segmentation-glasbey-19-mid-chroma', colormap=glas19mid,\n        )\n\n\nif __name__ == '__main__':\n    napari.run()"
      ]
    }
  ],
  "metadata": {
    "kernelspec": {
      "display_name": "Python 3",
      "language": "python",
      "name": "python3"
    },
    "language_info": {
      "codemirror_mode": {
        "name": "ipython",
        "version": 3
      },
      "file_extension": ".py",
      "mimetype": "text/x-python",
      "name": "python",
      "nbconvert_exporter": "python",
      "pygments_lexer": "ipython3",
      "version": "3.10.16"
    }
  },
  "nbformat": 4,
  "nbformat_minor": 0
}