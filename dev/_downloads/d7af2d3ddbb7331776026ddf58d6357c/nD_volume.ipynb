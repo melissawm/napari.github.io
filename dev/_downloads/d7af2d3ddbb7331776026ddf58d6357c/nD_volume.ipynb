{
  "cells": [
    {
      "cell_type": "code",
      "execution_count": null,
      "metadata": {
        "collapsed": false
      },
      "outputs": [],
      "source": [
        "%matplotlib inline"
      ]
    },
    {
      "cell_type": "markdown",
      "metadata": {},
      "source": [
        "\n# nD volume\n\nSlide through 3D Volume series in 4D data using the add_volume API\n"
      ]
    },
    {
      "cell_type": "code",
      "execution_count": null,
      "metadata": {
        "collapsed": false
      },
      "outputs": [],
      "source": [
        "from skimage.data import binary_blobs\nimport numpy as np\nimport napari\n\n\nblobs = np.asarray(\n    [\n        binary_blobs(length=64, volume_fraction=0.1, n_dim=3).astype(float)\n        for i in range(10)\n    ]\n)\nviewer = napari.Viewer(ndisplay=3)\n\n# add the volume\nlayer = viewer.add_image(blobs)\n\nif __name__ == '__main__':\n    napari.run()"
      ]
    }
  ],
  "metadata": {
    "kernelspec": {
      "display_name": "Python 3",
      "language": "python",
      "name": "python3"
    },
    "language_info": {
      "codemirror_mode": {
        "name": "ipython",
        "version": 3
      },
      "file_extension": ".py",
      "mimetype": "text/x-python",
      "name": "python",
      "nbconvert_exporter": "python",
      "pygments_lexer": "ipython3",
      "version": "3.9.13"
    }
  },
  "nbformat": 4,
  "nbformat_minor": 0
}