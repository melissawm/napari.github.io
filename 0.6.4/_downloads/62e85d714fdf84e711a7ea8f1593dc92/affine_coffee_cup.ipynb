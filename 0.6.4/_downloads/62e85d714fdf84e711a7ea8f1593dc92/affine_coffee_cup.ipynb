{
  "cells": [
    {
      "cell_type": "markdown",
      "metadata": {},
      "source": [
        "\n# Affine Transforms 3D\n\nTranslate and rotate an object in napari using an affine transformation. Affine for 3D objects is represented as a 4x4 matrix,\nwhile affine for 2D objects is represented as a 3x3 matrix. For 3D objects the 4 columns represent the rotate, scale, shear, and\ntranslate respectively, and by default, affine is set as a 4x4 identity matrix. By modifying the respective values in this matrix,\nwhich is represented as a numpy array, we can move and adjust objects in the napari viewer.\n\n.. tags:: visualization-advanced\n"
      ]
    },
    {
      "cell_type": "code",
      "execution_count": null,
      "metadata": {
        "collapsed": false
      },
      "outputs": [],
      "source": [
        "import meshio\nimport numpy as np\nimport pooch\nfrom magicgui import magicgui\n\nimport napari\n\ncup_path = pooch.retrieve(\n    url=\"https://raw.githubusercontent.com/8bitbiscuit/cup_and_creamer/main/cup.stl\",\n    known_hash='b6162298f86c94ebb276eb5f0544409996a8ee81fff9627a2bd4b71309835014',\n)\ncreamer_path = pooch.retrieve(\n    url=\"https://raw.githubusercontent.com/8bitbiscuit/cup_and_creamer/main/creamer.stl\",\n    known_hash='122256d942694cf40fc1a186a346cda0b31a03fbdec61ea8a351c915f3d0d6ed',\n)\n\n# Use meshio to read in stl files\ncup_mesh = meshio.read(cup_path)\ncreamer_mesh = meshio.read(creamer_path)\n\n# Create tuples using the data read in from meshio to be viewed by napari as surfaces\ncup_data = (cup_mesh.points, cup_mesh.cells[0].data)\ncreamer_data = (creamer_mesh.points, creamer_mesh.cells[0].data)\n\nviewer = napari.Viewer()\n\n# Define an original affine transformation to be position of surface upon being loaded into viewer\n# Otherwise both objects would be loaded in on the origin in the viewer by default and be on top of one another\nog_affine = np.array(\n    [\n        [1.0, 0.0, 0.0, 0.0],\n        [0.0, 1.0, 0.0, 0.0],\n        [0.0, 0.0, 1.0, -0.1],\n        [0.0, 0.0, 0.0, 1.0],\n    ]\n)\n\n# Add in the two surfaces we read using meshio\nviewer.add_surface(cup_data, name=\"cup\")\nviewer.add_surface(\n    creamer_data, affine=og_affine, opacity=0.5, blending=\"additive\", name=\"creamer\"\n)\n\n\n@magicgui(call_button='POUR!!')\ndef pour_creamer():\n    # Define a new affine transform for the creamer surface, where it is moved up and at an angle to be 'poured' into the cup\n    new_affine = np.array(\n        [\n            [1.0, 0.0, 0.0, 0.0],\n            [0.0, 0.23, -0.97, 0.15],\n            [0.0, 0.97, 0.23, -0.08],\n            [0.0, 0.0, 0.0, 1.0],\n        ]\n    )\n\n    # Add a transformed surface with the new affine transform\n    # This surface is identical to the other creamer object, save for the new affine transformation\n    viewer.add_surface(\n        creamer_data, affine=new_affine, opacity=0.5, blending=\"additive\", name=\"pour\"\n    )\n\n\n# Set viewer camera angles and zoom\nviewer.dims.ndisplay = 3\nviewer.camera.angles = (180, 40, 92)\nviewer.camera.zoom = 1972\n\n# Add button to create new layer with transformed object using magicgui\nviewer.window.add_dock_widget(pour_creamer)\n\npour_creamer()\n\nif __name__ == \"__main__\":\n    napari.run()"
      ]
    }
  ],
  "metadata": {
    "kernelspec": {
      "display_name": "Python 3",
      "language": "python",
      "name": "python3"
    },
    "language_info": {
      "codemirror_mode": {
        "name": "ipython",
        "version": 3
      },
      "file_extension": ".py",
      "mimetype": "text/x-python",
      "name": "python",
      "nbconvert_exporter": "python",
      "pygments_lexer": "ipython3",
      "version": "3.10.18"
    }
  },
  "nbformat": 4,
  "nbformat_minor": 0
}