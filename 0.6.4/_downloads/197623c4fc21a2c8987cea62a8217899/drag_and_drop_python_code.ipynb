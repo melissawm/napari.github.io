{
  "cells": [
    {
      "cell_type": "markdown",
      "metadata": {},
      "source": [
        "\n# Drag and Drop Python Code Example\n\nThis example demonstrates how to execute a python script by drag'n'drop\n\nTo use this example, open napari and drag this file into the viewer.\n\n.. tags:: interactivity\n"
      ]
    },
    {
      "cell_type": "code",
      "execution_count": null,
      "metadata": {
        "collapsed": false
      },
      "outputs": [],
      "source": [
        "from napari import Viewer\nfrom napari.types import ImageData\n\n\ndef add_layers(img1: ImageData, img2: ImageData) -> ImageData:\n    return img1 + img2\n\nviewer = Viewer()\n\nviewer.open_sample('napari', 'cells3d')\nviewer.window.add_function_widget(add_layers)"
      ]
    }
  ],
  "metadata": {
    "kernelspec": {
      "display_name": "Python 3",
      "language": "python",
      "name": "python3"
    },
    "language_info": {
      "codemirror_mode": {
        "name": "ipython",
        "version": 3
      },
      "file_extension": ".py",
      "mimetype": "text/x-python",
      "name": "python",
      "nbconvert_exporter": "python",
      "pygments_lexer": "ipython3",
      "version": "3.10.18"
    }
  },
  "nbformat": 4,
  "nbformat_minor": 0
}